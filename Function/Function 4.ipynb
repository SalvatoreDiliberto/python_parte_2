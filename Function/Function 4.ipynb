{
 "cells": [
  {
   "cell_type": "markdown",
   "metadata": {},
   "source": [
    "FUNCTION"
   ]
  },
  {
   "cell_type": "markdown",
   "metadata": {},
   "source": [
    "Esercizio 4"
   ]
  },
  {
   "cell_type": "markdown",
   "metadata": {},
   "source": [
    "Ora crea una funzione per John Doe e la sua famiglia che saluti tutti i membri della famiglia.\n",
    "Poiché di solito sarà John Doe, il parametro nome e cognome deve essere predefinito\n",
    "e quando arriva qualcun altro deve salutare il nuovo arrivato con i parametri nome cognome che sono stati sovrascritti. Rendilo possibile.\n",
    "La funzione deve stampare \"Hello John Doe\"dove John e Doe sono parametrici\n",
    "Saluta ciascuno il nostro John prima poi le persone nell'elenco con il ciclo for e la funzione"
   ]
  },
  {
   "cell_type": "code",
   "execution_count": 7,
   "metadata": {},
   "outputs": [
    {
     "name": "stdout",
     "output_type": "stream",
     "text": [
      "Hello john Doe\n",
      "Hello Tristram Mcbride\n",
      "Hello Baldwin Preston\n",
      "Hello Wally Collins\n"
     ]
    }
   ],
   "source": [
    "members=[\"Tristram Mcbride\",\"john Doe\",\"Baldwin Preston\",\"Wally Collins\"]\n",
    "\n",
    "def saluta(name=\"john\", surname=\"Doe\"):\n",
    "    print(f\"Hello {name} {surname}\")\n",
    "    for name,surname in lista:\n",
    "        if name!=\"john\":\n",
    "            print(f\"Hello {name} {surname}\")\n",
    "\n",
    "saluta()\n",
    "\n"
   ]
  }
 ],
 "metadata": {
  "kernelspec": {
   "display_name": "Python 3",
   "language": "python",
   "name": "python3"
  },
  "language_info": {
   "codemirror_mode": {
    "name": "ipython",
    "version": 3
   },
   "file_extension": ".py",
   "mimetype": "text/x-python",
   "name": "python",
   "nbconvert_exporter": "python",
   "pygments_lexer": "ipython3",
   "version": "3.11.4"
  },
  "orig_nbformat": 4
 },
 "nbformat": 4,
 "nbformat_minor": 2
}
