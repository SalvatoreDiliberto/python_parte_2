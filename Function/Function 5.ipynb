{
 "cells": [
  {
   "cell_type": "markdown",
   "metadata": {},
   "source": [
    "FUNCTION"
   ]
  },
  {
   "cell_type": "markdown",
   "metadata": {},
   "source": [
    "Esercizio 5"
   ]
  },
  {
   "cell_type": "markdown",
   "metadata": {},
   "source": [
    "Importa funzione casuale\n",
    "Crea una funzione random_list_summercrea n lista di elementi con valore minimo = -100 valore massimo = 100 deve prima stampare la lista e sommare tutti gli elementi di essa il numero di elemento predefinito è 15 Non dimenticare di chiamare la funzione\n",
    "per\n",
    "alcune funzionalità e le funzioni che potresti dover cercare su Internet non perdere il coraggio"
   ]
  },
  {
   "cell_type": "code",
   "execution_count": 2,
   "metadata": {},
   "outputs": [
    {
     "name": "stdout",
     "output_type": "stream",
     "text": [
      "[12, -61, 44, 78, -47]\n",
      "The sum of the list is 26\n"
     ]
    }
   ],
   "source": [
    "import random\n",
    "def random_list_summer(n):\n",
    "    list=[random.randint(-100,100) for x in range(n)]\n",
    "    print(list)\n",
    "    print(f\"The sum of the list is {sum(list)}\")\n",
    "\n",
    "random_list_summer(5)\n"
   ]
  }
 ],
 "metadata": {
  "kernelspec": {
   "display_name": "Python 3",
   "language": "python",
   "name": "python3"
  },
  "language_info": {
   "codemirror_mode": {
    "name": "ipython",
    "version": 3
   },
   "file_extension": ".py",
   "mimetype": "text/x-python",
   "name": "python",
   "nbconvert_exporter": "python",
   "pygments_lexer": "ipython3",
   "version": "3.11.4"
  },
  "orig_nbformat": 4
 },
 "nbformat": 4,
 "nbformat_minor": 2
}
