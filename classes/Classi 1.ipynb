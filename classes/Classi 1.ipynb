{
 "cells": [
  {
   "cell_type": "markdown",
   "metadata": {},
   "source": [
    "CLASSI"
   ]
  },
  {
   "cell_type": "markdown",
   "metadata": {},
   "source": [
    "Esercizio 1"
   ]
  },
  {
   "cell_type": "markdown",
   "metadata": {},
   "source": [
    "Let's create Animal class and then create the animal object that runs and having 4 legs\n",
    "\n",
    "create animal object with leg count when created print \"Animal object was created\" and then call runs method of it and it prints \"Running started\""
   ]
  },
  {
   "cell_type": "code",
   "execution_count": 1,
   "metadata": {},
   "outputs": [
    {
     "name": "stdout",
     "output_type": "stream",
     "text": [
      "Animal object was created\n",
      "Running started\n",
      "the animal has 4 legs\n"
     ]
    }
   ],
   "source": [
    "\n",
    "\n",
    "class animal:\n",
    "    def __init__(self,name,it_runs,number_of_legs):\n",
    "        self.name=name\n",
    "        self.it_runs=it_runs\n",
    "        self.number_of_legs=number_of_legs\n",
    "        print(\"Animal object was created\")\n",
    "    def leg_count(self):\n",
    "        print(f\"the animal has {self.number_of_legs} legs\")\n",
    "    def runs(self):\n",
    "        if self.it_runs:\n",
    "            print(\"Running started\")\n",
    "\n",
    "a1=animal(\"dog\",True,4)\n",
    "a1.runs()\n",
    "a1.leg_count()"
   ]
  }
 ],
 "metadata": {
  "kernelspec": {
   "display_name": "Python 3",
   "language": "python",
   "name": "python3"
  },
  "language_info": {
   "codemirror_mode": {
    "name": "ipython",
    "version": 3
   },
   "file_extension": ".py",
   "mimetype": "text/x-python",
   "name": "python",
   "nbconvert_exporter": "python",
   "pygments_lexer": "ipython3",
   "version": "3.11.5"
  },
  "orig_nbformat": 4
 },
 "nbformat": 4,
 "nbformat_minor": 2
}
