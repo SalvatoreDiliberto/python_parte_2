{
 "cells": [
  {
   "cell_type": "markdown",
   "metadata": {},
   "source": [
    "CLASSI"
   ]
  },
  {
   "cell_type": "markdown",
   "metadata": {},
   "source": [
    "Esercizio 4"
   ]
  },
  {
   "cell_type": "markdown",
   "metadata": {},
   "source": [
    "Let's inherit Dog class from Animal add name(private) attribute to Dog class and then bark method to print woof woof\n",
    "\n",
    "print name_of_dog make it bark count the legs"
   ]
  },
  {
   "cell_type": "code",
   "execution_count": 1,
   "metadata": {},
   "outputs": [
    {
     "name": "stdout",
     "output_type": "stream",
     "text": [
      "Animal object was created\n",
      "My name is rex\n",
      "woof woof\n",
      "The animal has 4 legs\n"
     ]
    }
   ],
   "source": [
    "class animal:\n",
    "    def __init__(self,it_runs,number_of_legs):\n",
    "        self.it_runs=it_runs\n",
    "        self._number_of_legs=number_of_legs\n",
    "        print(\"Animal object was created\")\n",
    "    def runs(self):\n",
    "        print(\"Running started\")\n",
    "    def private_legs(self):\n",
    "        print(f\"The animal has {self._number_of_legs} legs\")\n",
    "\n",
    "class dog(animal):\n",
    "    def __init__(self,it_runs,number_of_legs,name):\n",
    "        super().__init__(it_runs,number_of_legs)\n",
    "        self.__name=name\n",
    "    def tell_name(self):\n",
    "        print(f\"My name is {self.__name}\")\n",
    "    def bark(self):\n",
    "        print(\"woof woof\")\n",
    "\n",
    "cane1=dog(True,4,\"rex\")\n",
    "cane1.tell_name()\n",
    "cane1.bark()\n",
    "cane1.private_legs()"
   ]
  }
 ],
 "metadata": {
  "kernelspec": {
   "display_name": "Python 3",
   "language": "python",
   "name": "python3"
  },
  "language_info": {
   "codemirror_mode": {
    "name": "ipython",
    "version": 3
   },
   "file_extension": ".py",
   "mimetype": "text/x-python",
   "name": "python",
   "nbconvert_exporter": "python",
   "pygments_lexer": "ipython3",
   "version": "3.11.5"
  },
  "orig_nbformat": 4
 },
 "nbformat": 4,
 "nbformat_minor": 2
}
