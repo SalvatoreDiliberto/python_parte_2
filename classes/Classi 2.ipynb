{
 "cells": [
  {
   "cell_type": "markdown",
   "metadata": {},
   "source": [
    "CLASSI"
   ]
  },
  {
   "cell_type": "markdown",
   "metadata": {},
   "source": [
    "Esercizio 2"
   ]
  },
  {
   "cell_type": "markdown",
   "metadata": {},
   "source": [
    "Now continue with the Animal class we had used before\n",
    "\n",
    "Add a method to count the legs count_legs which prints the number of legs\n",
    "\n",
    "Add a method to count the legs return_legs which returns the number of legs\n",
    "\n",
    "print number of legs directly from number_of_legs variable of the object"
   ]
  },
  {
   "cell_type": "code",
   "execution_count": 2,
   "metadata": {},
   "outputs": [
    {
     "name": "stdout",
     "output_type": "stream",
     "text": [
      "Animal object was created\n",
      "4\n"
     ]
    }
   ],
   "source": [
    "class animal:\n",
    "    def __init__(self,name,it_runs,number_of_legs):\n",
    "        self.name=name\n",
    "        self.it_runs=it_runs\n",
    "        self.number_of_legs=number_of_legs\n",
    "        print(\"Animal object was created\")\n",
    "    def count_legs(self):\n",
    "        print(f\"the animal has {self.number_of_legs} legs\")\n",
    "    def runs(self):\n",
    "        print(\"Running started\")\n",
    "    def return_legs(self):\n",
    "        return f\"The animal has {self.number_of_legs} legs\"\n",
    "    \n",
    "a1=animal(\"dog\",True,4)\n",
    "print(a1.number_of_legs)"
   ]
  }
 ],
 "metadata": {
  "kernelspec": {
   "display_name": "Python 3",
   "language": "python",
   "name": "python3"
  },
  "language_info": {
   "codemirror_mode": {
    "name": "ipython",
    "version": 3
   },
   "file_extension": ".py",
   "mimetype": "text/x-python",
   "name": "python",
   "nbconvert_exporter": "python",
   "pygments_lexer": "ipython3",
   "version": "3.11.5"
  },
  "orig_nbformat": 4
 },
 "nbformat": 4,
 "nbformat_minor": 2
}
