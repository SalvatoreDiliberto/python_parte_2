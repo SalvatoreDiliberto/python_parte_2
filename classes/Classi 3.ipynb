{
 "cells": [
  {
   "cell_type": "markdown",
   "metadata": {},
   "source": [
    "CLASSI"
   ]
  },
  {
   "cell_type": "markdown",
   "metadata": {},
   "source": [
    "Esercizio 3"
   ]
  },
  {
   "cell_type": "markdown",
   "metadata": {},
   "source": [
    "Again let's keep talking on Animal class we have.\n",
    "with 3 methods we just reached the number of legs\n",
    "to prevent direct interacting with the class variables\n",
    "most of the other programming languages have encapsulation.\n",
    "But in python we don't have it instead we use _ prefix for it as convention\n",
    "it is also same for the methods\n",
    "\n",
    "_legs this shows us not to touch this variable its up to you if you want to change it you can but _ asks you politely not to do it.\n",
    "\n",
    "Change the number_of_legs to conventional private variable and call from another method"
   ]
  },
  {
   "cell_type": "code",
   "execution_count": 1,
   "metadata": {},
   "outputs": [
    {
     "name": "stdout",
     "output_type": "stream",
     "text": [
      "Animal object was created\n",
      "The animal has 4 legs\n"
     ]
    }
   ],
   "source": [
    "class animal:\n",
    "    def __init__(self,name,it_runs,number_of_legs):\n",
    "        self.name=name\n",
    "        self.it_runs=it_runs\n",
    "        self._number_of_legs=number_of_legs\n",
    "        print(\"Animal object was created\")\n",
    "    def count_legs(self):\n",
    "        print(f\"the animal has {self._number_of_legs} legs\")\n",
    "    def runs(self):\n",
    "        print(\"Running started\")\n",
    "    def return_legs(self):\n",
    "        return f\"The animal has {self._number_of_legs} legs\"\n",
    "    def private_legs(self):\n",
    "        print(f\"The animal has {self._number_of_legs} legs\")\n",
    "\n",
    "a1=animal(\"dog\",True,4)\n",
    "a1.private_legs()"
   ]
  }
 ],
 "metadata": {
  "kernelspec": {
   "display_name": "Python 3",
   "language": "python",
   "name": "python3"
  },
  "language_info": {
   "codemirror_mode": {
    "name": "ipython",
    "version": 3
   },
   "file_extension": ".py",
   "mimetype": "text/x-python",
   "name": "python",
   "nbconvert_exporter": "python",
   "pygments_lexer": "ipython3",
   "version": "3.11.5"
  },
  "orig_nbformat": 4
 },
 "nbformat": 4,
 "nbformat_minor": 2
}
