{
 "cells": [
  {
   "cell_type": "markdown",
   "metadata": {},
   "source": [
    "Iterators"
   ]
  },
  {
   "cell_type": "markdown",
   "metadata": {},
   "source": [
    "For loops Esercizio 3"
   ]
  },
  {
   "cell_type": "code",
   "execution_count": 2,
   "metadata": {},
   "outputs": [],
   "source": [
    "list1 = [\"lion\", \"monkey\", \"dog\",\"fish\"]\n",
    "tuple1 = (\"lion\", \"monkey\", \"dog\",\"fish\")\n",
    "set1 = {\"lion\", \"monkey\", \"dog\",\"fish\"}\n",
    "dict1 = {\"lion\":\"land\", \"monkey\":\"land\", \"dog\":\"land\",\"fish\":\"water\"}"
   ]
  },
  {
   "cell_type": "markdown",
   "metadata": {},
   "source": [
    "1) Iterate each elements of list1,tuple1,set1 and print them out.\n"
   ]
  },
  {
   "cell_type": "code",
   "execution_count": 5,
   "metadata": {},
   "outputs": [
    {
     "name": "stdout",
     "output_type": "stream",
     "text": [
      "lion\n",
      "monkey\n",
      "dog\n",
      "fish\n",
      "lion\n",
      "monkey\n",
      "dog\n",
      "fish\n",
      "fish\n",
      "monkey\n",
      "lion\n",
      "dog\n"
     ]
    }
   ],
   "source": [
    "for x in list1:\n",
    "    print(x)\n",
    "for x in tuple1:\n",
    "    print(x)\n",
    "for x in set1:\n",
    "    print(x)\n"
   ]
  },
  {
   "cell_type": "markdown",
   "metadata": {},
   "source": [
    "2) For the dict1 iterate all elements but only print the ones who are living on land in the form of x lives in y."
   ]
  },
  {
   "cell_type": "code",
   "execution_count": 8,
   "metadata": {},
   "outputs": [
    {
     "name": "stdout",
     "output_type": "stream",
     "text": [
      "lion live in land\n",
      "monkey live in land\n",
      "dog live in land\n"
     ]
    }
   ],
   "source": [
    "for x in dict1:\n",
    "    if dict1[x] == \"land\":\n",
    "        print(f\"{x} live in {dict1[x]}\")"
   ]
  }
 ],
 "metadata": {
  "kernelspec": {
   "display_name": "Python 3",
   "language": "python",
   "name": "python3"
  },
  "language_info": {
   "codemirror_mode": {
    "name": "ipython",
    "version": 3
   },
   "file_extension": ".py",
   "mimetype": "text/x-python",
   "name": "python",
   "nbconvert_exporter": "python",
   "pygments_lexer": "ipython3",
   "version": "3.11.4"
  },
  "orig_nbformat": 4
 },
 "nbformat": 4,
 "nbformat_minor": 2
}
